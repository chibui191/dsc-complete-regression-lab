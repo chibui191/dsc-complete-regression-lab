{
 "cells": [
  {
   "cell_type": "markdown",
   "metadata": {},
   "source": [
    "# Complete Regression - Lab\n",
    "\n",
    "## Introduction\n",
    "By now, you have created all the necessary functions to calculate the slope, intercept, best-fit line, prediction, and visualizations. In this lab you will put them all together to run a regression experiment and calculate the model loss. \n",
    "\n",
    "## Objectives\n",
    "\n",
    "You will be able to:\n",
    "\n",
    "* Perform a linear regression using self-constructed functions\n",
    "* Calculate the coefficient of determination using self-constructed functions\n",
    "* Use the coefficient of determination to determine model performance\n",
    "\n",
    "## The formulas\n",
    "\n",
    "**Slope**: \n",
    "$\\hat m = \\dfrac{\\overline{x}*\\overline{y}-\\overline{xy}}{(\\overline{x})^2-\\overline{x^2}}$\n",
    "\n",
    "\n",
    "**Intercept**: $ \\hat c = \\bar{y} - \\hat m\\bar{x}$\n",
    "\n",
    "**Prediction**: $\\hat{y} = \\hat mx + \\hat c$\n",
    "\n",
    "**R-Squared**: \n",
    "$ R^2 = 1- \\dfrac{SS_{RES}}{SS_{TOT}} = 1 - \\dfrac{\\sum_i(y_i - \\hat y_i)^2}{\\sum_i(y_i - \\overline y_i)^2} $\n",
    "\n",
    "\n",
    "Use the Python functions created earlier to implement these formulas to run a regression analysis using x and y as input variables. "
   ]
  },
  {
   "cell_type": "code",
   "execution_count": 1,
   "metadata": {},
   "outputs": [],
   "source": [
    "import numpy as np\n",
    "import matplotlib.pyplot as plt\n",
    "import seaborn as sns"
   ]
  },
  {
   "cell_type": "code",
   "execution_count": 2,
   "metadata": {},
   "outputs": [],
   "source": [
    "# Combine all the functions created so far to run a complete regression experiment. \n",
    "# Produce an output similar to the one shown below. \n",
    "\n",
    "X = np.array([1, 2, 3, 4, 5, 6, 7, 8, 9, 10], dtype=np.float64)\n",
    "Y = np.array([7, 7, 8, 9, 9, 10, 10, 11, 11, 12], dtype=np.float64)\n"
   ]
  },
  {
   "cell_type": "code",
   "execution_count": 3,
   "metadata": {},
   "outputs": [],
   "source": [
    "# Create function calculating slope\n",
    "def cal_slope(x, y):\n",
    "    return (x.mean() * y.mean() - (x*y).mean()) / (x.mean()**2 - (x**2).mean())"
   ]
  },
  {
   "cell_type": "code",
   "execution_count": 4,
   "metadata": {},
   "outputs": [],
   "source": [
    "# Create function calculating intercept\n",
    "def cal_intercept(x, y):\n",
    "    slope = cal_slope(x, y)\n",
    "    return y.mean() - (slope * x.mean())"
   ]
  },
  {
   "cell_type": "code",
   "execution_count": 5,
   "metadata": {},
   "outputs": [],
   "source": [
    "# Create function predicting y-values\n",
    "def predict(slope, intercept, x):\n",
    "    return intercept + x * slope"
   ]
  },
  {
   "cell_type": "code",
   "execution_count": 6,
   "metadata": {},
   "outputs": [],
   "source": [
    "# Create function calculating squared error between 2 arrays of values\n",
    "def sq_err(y_real, y_predicted):\n",
    "    return ((y_real - y_predicted)**2).sum()"
   ]
  },
  {
   "cell_type": "code",
   "execution_count": 7,
   "metadata": {},
   "outputs": [],
   "source": [
    "# Create function calculating R-squared between 2 arrays of values\n",
    "def r_squared(y_real, y_predicted):\n",
    "    baseline = np.ones(len(y_real)) * y_real.mean()\n",
    "    rrs = sq_err(y_real, y_predicted)\n",
    "    rrt = sq_err(y_real, baseline)\n",
    "    return (1 - rrs/rrt)"
   ]
  },
  {
   "cell_type": "code",
   "execution_count": 8,
   "metadata": {},
   "outputs": [
    {
     "name": "stdout",
     "output_type": "stream",
     "text": [
      "Basic Regression Diagnostics\n",
      "----------------------------\n",
      "Slope: 0.56\n",
      "Y-Intercept: 6.33\n",
      "R-Squared: 0.97\n",
      "----------------------------\n",
      "Model: Y = 0.56 * X + 6.33\n"
     ]
    },
    {
     "data": {
      "image/png": "[encoded data removed]",
      "text/plain": [
       "<Figure size 432x288 with 1 Axes>"
      ]
     },
     "metadata": {},
     "output_type": "display_data"
    }
   ],
   "source": [
    "# Apply functions to calculate slope, intercept, predicted y-values, and R-squared for X & Y\n",
    "slope = cal_slope(X, Y)\n",
    "intercept = cal_intercept(X, Y)\n",
    "Y_pred = predict(slope, intercept, X)\n",
    "r_sqr = r_squared(Y, Y_pred)\n",
    "\n",
    "# Print out results\n",
    "print('Basic Regression Diagnostics')\n",
    "print('----------------------------')\n",
    "print(f'Slope: {round(slope,2)}')\n",
    "print(f'Y-Intercept: {round(intercept,2)}')\n",
    "print(f'R-Squared: {round(r_sqr,2)}')\n",
    "print('----------------------------')\n",
    "print(f'Model: Y = {round(slope,2)} * X + {round(intercept,2)}')\n",
    "\n",
    "# Visualize\n",
    "sns.set_style('darkgrid')\n",
    "plt.scatter(X, Y, label='Data', color='darkblue')\n",
    "plt.plot(X, Y_pred, label='Regression Line', color='red')\n",
    "plt.legend()\n",
    "plt.show();"
   ]
  },
  {
   "cell_type": "markdown",
   "metadata": {},
   "source": [
    "## Make Predictions\n",
    "\n",
    "Predict and plot the value of y using regression line above for a new value of $x = 4.5$."
   ]
  },
  {
   "cell_type": "code",
   "execution_count": 9,
   "metadata": {},
   "outputs": [
    {
     "data": {
      "image/png": "[encoded data removed]",
      "text/plain": [
       "<Figure size 432x288 with 1 Axes>"
      ]
     },
     "metadata": {},
     "output_type": "display_data"
    }
   ],
   "source": [
    "# Make prediction for x = 4.5 and visualize on the scatter plot\n",
    "x = 4.5\n",
    "predicted_y = predict(slope, intercept, x)\n",
    "\n",
    "# Visualize\n",
    "sns.set_style('darkgrid')\n",
    "# Real Data\n",
    "plt.scatter(X, Y, label='Data', color='darkblue')\n",
    "# Regression Line\n",
    "plt.plot(X, Y_pred, label='Regression Line', color='red')\n",
    "# Predicted y value for x = 4.5\n",
    "plt.scatter(x, predicted_y, label=f'Prediction: y = {round(predicted_y, 2)}', color='red')\n",
    "plt.legend()\n",
    "plt.show();"
   ]
  },
  {
   "cell_type": "markdown",
   "metadata": {},
   "source": [
    "## Level up - Optional \n",
    "Load the \"`heightweight.csv`\" dataset. Use the height as an independent and weight as a dependent variable and draw a regression line to data using your code above. Calculate your R-Squared value for the model and try to predict new values of y. \n",
    "\n",
    "## Summary\n",
    "\n",
    "In this lab, we ran a complete simple regression analysis experiment using functions created so far. Next up, you'll learn how you can use Python's built-in modules to perform similar analyses with a much higher level of sophistication. "
   ]
  }
 ],
 "metadata": {
  "kernelspec": {
   "display_name": "Python 3",
   "language": "python",
   "name": "python3"
  },
  "language_info": {
   "codemirror_mode": {
    "name": "ipython",
    "version": 3
   },
   "file_extension": ".py",
   "mimetype": "text/x-python",
   "name": "python",
   "nbconvert_exporter": "python",
   "pygments_lexer": "ipython3",
   "version": "3.8.5"
  }
 },
 "nbformat": 4,
 "nbformat_minor": 2
}
